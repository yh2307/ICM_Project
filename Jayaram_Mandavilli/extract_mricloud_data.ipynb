{
 "cells": [
  {
   "cell_type": "code",
   "execution_count": 11,
   "metadata": {},
   "outputs": [],
   "source": [
    "import pandas as pd"
   ]
  },
  {
   "cell_type": "code",
   "execution_count": 12,
   "metadata": {},
   "outputs": [],
   "source": [
    "output_file = open(\"./mricloud_output/output/MNI_286Labels_MNI_stats.txt\", 'r')\n",
    "lines = output_file.readlines()\n",
    "relevant_lines = []\n",
    " \n",
    "count = 0\n",
    "for line in lines:\n",
    "    splits = line.strip().split('\\t')\n",
    "    if len(splits) > 1:\n",
    "        if 'Amyg' in splits[1] or 'Fimbria' in splits[1] or 'Hippo' in splits[1] or 'Mammillary' in splits[1]:\n",
    "            relevant_lines.append(splits)"
   ]
  },
  {
   "cell_type": "code",
   "execution_count": 19,
   "metadata": {},
   "outputs": [
    {
     "data": {
      "text/html": [
       "<div>\n",
       "<style scoped>\n",
       "    .dataframe tbody tr th:only-of-type {\n",
       "        vertical-align: middle;\n",
       "    }\n",
       "\n",
       "    .dataframe tbody tr th {\n",
       "        vertical-align: top;\n",
       "    }\n",
       "\n",
       "    .dataframe thead th {\n",
       "        text-align: right;\n",
       "    }\n",
       "</style>\n",
       "<table border=\"1\" class=\"dataframe\">\n",
       "  <thead>\n",
       "    <tr style=\"text-align: right;\">\n",
       "      <th></th>\n",
       "      <th>Amyg_R</th>\n",
       "      <th>Fimbria_R</th>\n",
       "      <th>Hippo_R</th>\n",
       "      <th>Mammillary_R</th>\n",
       "      <th>Amyg_L</th>\n",
       "      <th>Fimbria_L</th>\n",
       "      <th>Hippo_L</th>\n",
       "      <th>Mammillary_L</th>\n",
       "    </tr>\n",
       "  </thead>\n",
       "  <tbody>\n",
       "    <tr>\n",
       "      <th>0</th>\n",
       "      <td>116.0023</td>\n",
       "      <td>147.8275</td>\n",
       "      <td>108.5544</td>\n",
       "      <td>145.6436</td>\n",
       "      <td>112.2878</td>\n",
       "      <td>153.2168</td>\n",
       "      <td>106.0655</td>\n",
       "      <td>152.3562</td>\n",
       "    </tr>\n",
       "  </tbody>\n",
       "</table>\n",
       "</div>"
      ],
      "text/plain": [
       "     Amyg_R Fimbria_R   Hippo_R Mammillary_R    Amyg_L Fimbria_L   Hippo_L  \\\n",
       "0  116.0023  147.8275  108.5544     145.6436  112.2878  153.2168  106.0655   \n",
       "\n",
       "  Mammillary_L  \n",
       "0     152.3562  "
      ]
     },
     "execution_count": 19,
     "metadata": {},
     "output_type": "execute_result"
    }
   ],
   "source": [
    "rolls=['Amyg_R','Fimbria_R','Hippo_R','Mammillary_R','Amyg_L','Fimbria_L','Hippo_L','Mammillary_L']\n",
    "df = pd.DataFrame(columns = rolls)\n",
    "df = df.append({'Amyg_R': 0,'Fimbria_R': 0,'Hippo_R': 0,'Mammillary_R': 0,'Amyg_L': 0,'Fimbria_L': 0,'Hippo_L': 0,'Mammillary_L': 0}, ignore_index=True)\n",
    "\n",
    "for i in range(len(relevant_lines)):\n",
    "    for j in range(len(rolls)):\n",
    "        if relevant_lines[i][1] == rolls[j]:\n",
    "            df[rolls[j]] = relevant_lines[i][5]\n",
    "\n",
    "df"
   ]
  }
 ],
 "metadata": {
  "kernelspec": {
   "display_name": "Python 3",
   "language": "python",
   "name": "python3"
  },
  "language_info": {
   "codemirror_mode": {
    "name": "ipython",
    "version": 3
   },
   "file_extension": ".py",
   "mimetype": "text/x-python",
   "name": "python",
   "nbconvert_exporter": "python",
   "pygments_lexer": "ipython3",
   "version": "3.6.9"
  }
 },
 "nbformat": 4,
 "nbformat_minor": 4
}
