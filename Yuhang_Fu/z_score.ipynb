{
 "cells": [
  {
   "cell_type": "markdown",
   "metadata": {},
   "source": [
    "# Z-score Calculation and Save:\n",
    "- **Data PreProcessing**\n",
    "   \n",
    "- **Set Z-score Function**\n",
    "   \n",
    "- **Calculate Z-score and Save**"
   ]
  },
  {
   "cell_type": "code",
   "execution_count": 2,
   "metadata": {},
   "outputs": [],
   "source": [
    "# import modules\n",
    "import sys\n",
    "import pandas as pd\n",
    "import seaborn as sns\n",
    "import matplotlib.pyplot as plt\n",
    "import matplotlib as mpl\n",
    "import numpy as np\n",
    "import openpyxl"
   ]
  },
  {
   "cell_type": "markdown",
   "metadata": {},
   "source": [
    "#### Step1: Data Preprocessing "
   ]
  },
  {
   "cell_type": "code",
   "execution_count": 3,
   "metadata": {},
   "outputs": [],
   "source": [
    "# Load the ADNI Data\n",
    "data=pd.read_excel('ADNI_ICM_random200.xlsx')\n",
    "data=data.replace({'\\'':''},regex=True) #delete the ' ' of values\n",
    "data = data.rename(columns=lambda x:x.strip('\\'')) #delete the '' of the keys\n",
    "#print(data)\n",
    "# Select columns in need\n",
    "rolls=['Amyg_R','Fimbria_R','Hippo_R','Mammillary_R','Amyg_L','Fimbria_L','Hippo_L','Mammillary_L']\n",
    "p_info=['Subject_ID', 'Gender', 'Age', 'Diagnosis']\n",
    "cols=np.concatenate((p_info,rolls),axis=0)\n",
    "#print(cols)\n",
    "dat_need=data[cols]\n",
    "#print(dat_need)"
   ]
  },
  {
   "cell_type": "code",
   "execution_count": 4,
   "metadata": {},
   "outputs": [
    {
     "name": "stdout",
     "output_type": "stream",
     "text": [
      "The number of women diagnosed with ANDI is 55\n",
      "The number of men diagnosed with ANDI is 81\n",
      "The number of women not diagnosed with ANDI is 32\n",
      "The number of men  not diagnosed with ANDI is 32\n"
     ]
    }
   ],
   "source": [
    "# divided by ANDI and Control\n",
    "ANDI = dat_need[dat_need.Diagnosis =='AD/MCI']\n",
    "ANDI = ANDI.reset_index(drop=True) #set index to zero\n",
    "control = dat_need[dat_need.Diagnosis == 'NORMAL']\n",
    "control=control.reset_index(drop=True)\n",
    "#print(ANDI)\n",
    "# divided by gender\n",
    "female_ANDI = ANDI[ANDI.Gender == 'F']\n",
    "female_ANDI=female_ANDI.reset_index(drop=True)\n",
    "male_ANDI = ANDI[ANDI.Gender == 'M']\n",
    "male_ANDI=male_ANDI.reset_index(drop=True)\n",
    "male_control = control[control.Gender == 'M']\n",
    "male_control=male_control.reset_index(drop=True)\n",
    "female_control =control[control.Gender == 'F']\n",
    "female_control=female_control.reset_index(drop=True)\n",
    "# the number of a\n",
    "print('The number of women diagnosed with ANDI is '+str(female_ANDI.shape[0]))\n",
    "print('The number of men diagnosed with ANDI is '+str(male_ANDI.shape[0]))\n",
    "print('The number of women not diagnosed with ANDI is '+str(female_control.shape[0]))\n",
    "print('The number of men  not diagnosed with ANDI is '+str(female_control.shape[0]))"
   ]
  },
  {
   "cell_type": "markdown",
   "metadata": {},
   "source": [
    "#### Step2: Set Z-score Function"
   ]
  },
  {
   "cell_type": "code",
   "execution_count": 5,
   "metadata": {},
   "outputs": [],
   "source": [
    "def z_score(data,control):\n",
    "    length = len(data)\n",
    "    data_new=np.zeros(length)\n",
    "    ave = np.mean(control)#compute mean\n",
    "    #print(ave)\n",
    "    dev=np.std(control)#compute deviation\n",
    "    #print(dev)\n",
    "    for i in range(length):\n",
    "        data_new[i] = float((data[i] - ave)/dev)\n",
    "        #print(data[i])\n",
    "        #print(data[i]-ave)\n",
    "        #print((data[i]-ave)/dev)\n",
    "    return data_new\n"
   ]
  },
  {
   "cell_type": "markdown",
   "metadata": {},
   "source": [
    "#### Step3: Calculate Z-score and save"
   ]
  },
  {
   "cell_type": "code",
   "execution_count": 16,
   "metadata": {},
   "outputs": [],
   "source": [
    "#get the z-score of the original data in need\n",
    "data_z_org=dat_need.copy()\n",
    "len1=len(dat_need)\n",
    "data_z_1=np.zeros(len1)\n",
    "data_z_2=np.zeros(len1)\n",
    "data_z_3=np.zeros(len1)\n",
    "data_z_4=np.zeros(len1)\n",
    "data_z_5=np.zeros(len1)\n",
    "data_z_6=np.zeros(len1)\n",
    "data_z_7=np.zeros(len1)\n",
    "data_z_8=np.zeros(len1)\n",
    "\n",
    "data_z_1=z_score(dat_need.Amyg_R,control.Amyg_R)\n",
    "data_z_2=z_score(dat_need.Fimbria_R,control.Fimbria_R)\n",
    "data_z_3=z_score(dat_need.Hippo_R,control.Hippo_R)\n",
    "data_z_4=z_score(dat_need.Mammillary_R,control.Mammillary_R)\n",
    "data_z_5=z_score(dat_need.Amyg_L,control.Amyg_L)\n",
    "data_z_6=z_score(dat_need.Fimbria_L,control.Fimbria_L)\n",
    "data_z_7=z_score(dat_need.Hippo_L,control.Hippo_L)\n",
    "data_z_8=z_score(dat_need.Mammillary_L,control.Mammillary_L)\n",
    "\n",
    "data_z_org.Amyg_R=data_z_1\n",
    "data_z_org.Fimbria_R=data_z_2\n",
    "data_z_org.Hippo_R=data_z_3\n",
    "data_z_org.Mammillary_R=data_z_4\n",
    "data_z_org.Amyg_L=data_z_5\n",
    "data_z_org.Fimbria_L=data_z_6\n",
    "data_z_org.Hippo_L=data_z_7\n",
    "data_z_org.Mammillary_L=data_z_8\n",
    "\n",
    "#save\n",
    "pf=pd.DataFrame(data_z_org)\n",
    "file_path=pd.ExcelWriter('Z_score_All.xlsx')\n",
    "pf.to_excel(file_path,encoding='utf-8',index=False)\n",
    "file_path.save()"
   ]
  },
  {
   "cell_type": "code",
   "execution_count": 18,
   "metadata": {},
   "outputs": [],
   "source": [
    "#get the z-score of the ANDI Patient\n",
    "data_z_ANDI=ANDI.copy()\n",
    "len1=len(dat_need)\n",
    "data_ANDI_1=np.zeros(len1)\n",
    "data_ANDI_2=np.zeros(len1)\n",
    "data_ANDI_3=np.zeros(len1)\n",
    "data_ANDI_4=np.zeros(len1)\n",
    "data_ANDI_5=np.zeros(len1)\n",
    "data_ANDI_6=np.zeros(len1)\n",
    "data_ANDI_7=np.zeros(len1)\n",
    "data_ANDI_8=np.zeros(len1)\n",
    "\n",
    "data_ANDI_1=z_score(ANDI.Amyg_R,control.Amyg_R)\n",
    "data_ANDI_2=z_score(ANDI.Fimbria_R,control.Fimbria_R)\n",
    "data_ANDI_3=z_score(ANDI.Hippo_R,control.Hippo_R)\n",
    "data_ANDI_4=z_score(ANDI.Mammillary_R,control.Mammillary_R)\n",
    "data_ANDI_5=z_score(ANDI.Amyg_L,control.Amyg_L)\n",
    "data_ANDI_6=z_score(ANDI.Fimbria_L,control.Fimbria_L)\n",
    "data_ANDI_7=z_score(ANDI.Hippo_L,control.Hippo_L)\n",
    "data_ANDI_8=z_score(ANDI.Mammillary_L,control.Mammillary_L)\n",
    "\n",
    "data_z_ANDI.Amyg_R=data_ANDI_1\n",
    "data_z_ANDI.Fimbria_R=data_ANDI_2\n",
    "data_z_ANDI.Hippo_R=data_ANDI_3\n",
    "data_z_ANDI.Mammillary_R=data_ANDI_4\n",
    "data_z_ANDI.Amyg_L=data_ANDI_5\n",
    "data_z_ANDI.Fimbria_L=data_ANDI_6\n",
    "data_z_ANDI.Hippo_L=data_ANDI_7\n",
    "data_z_ANDI.Mammillary_L=data_ANDI_8\n",
    "\n",
    "#save\n",
    "pf=pd.DataFrame(data_z_ANDI)\n",
    "file_path=pd.ExcelWriter('Z_score_ANDI.xlsx')\n",
    "pf.to_excel(file_path,encoding='utf-8',index=False)\n",
    "file_path.save()\n"
   ]
  },
  {
   "cell_type": "code",
   "execution_count": 19,
   "metadata": {},
   "outputs": [],
   "source": [
    "#get the z-score of the CONTROL Patient\n",
    "data_z_CONTROL=control.copy()\n",
    "len1=len(dat_need)\n",
    "data_CONTROL_1=np.zeros(len1)\n",
    "data_CONTROL_2=np.zeros(len1)\n",
    "data_CONTROL_3=np.zeros(len1)\n",
    "data_CONTROL_4=np.zeros(len1)\n",
    "data_CONTROL_5=np.zeros(len1)\n",
    "data_CONTROL_6=np.zeros(len1)\n",
    "data_CONTROL_7=np.zeros(len1)\n",
    "data_CONTROL_8=np.zeros(len1)\n",
    "\n",
    "data_CONTROL_1=z_score(control.Amyg_R,control.Amyg_R)\n",
    "data_CONTROL_2=z_score(control.Fimbria_R,control.Fimbria_R)\n",
    "data_CONTROL_3=z_score(control.Hippo_R,control.Hippo_R)\n",
    "data_CONTROL_4=z_score(control.Mammillary_R,control.Mammillary_R)\n",
    "data_CONTROL_5=z_score(control.Amyg_L,control.Amyg_L)\n",
    "data_CONTROL_6=z_score(control.Fimbria_L,control.Fimbria_L)\n",
    "data_CONTROL_7=z_score(control.Hippo_L,control.Hippo_L)\n",
    "data_CONTROL_8=z_score(control.Mammillary_L,control.Mammillary_L)\n",
    "\n",
    "data_z_CONTROL.Amyg_R=data_CONTROL_1\n",
    "data_z_CONTROL.Fimbria_R=data_CONTROL_2\n",
    "data_z_CONTROL.Hippo_R=data_CONTROL_3\n",
    "data_z_CONTROL.Mammillary_R=data_CONTROL_4\n",
    "data_z_CONTROL.Amyg_L=data_CONTROL_5\n",
    "data_z_CONTROL.Fimbria_L=data_CONTROL_6\n",
    "data_z_CONTROL.Hippo_L=data_CONTROL_7\n",
    "data_z_CONTROL.Mammillary_L=data_CONTROL_8\n",
    "\n",
    "#save\n",
    "pf=pd.DataFrame(data_z_CONTROL)\n",
    "file_path=pd.ExcelWriter('Z_score_control.xlsx')\n",
    "pf.to_excel(file_path,encoding='utf-8',index=False)\n",
    "file_path.save()\n"
   ]
  },
  {
   "cell_type": "code",
   "execution_count": 1,
   "metadata": {},
   "outputs": [],
   "source": [
    "output_file = open(\"MNI_286Labels_MNI_stats.txt\", 'r')\n",
    "lines = output_file.readlines()\n",
    "relevant_lines = []\n",
    " \n",
    "count = 0\n",
    "for line in lines:\n",
    "    splits = line.strip().split('\\t')\n",
    "    if len(splits) > 1:\n",
    "        if 'Amyg' in splits[1] or 'Fimbria' in splits[1] or 'Hippo' in splits[1] or 'Mammillary' in splits[1]:\n",
    "            relevant_lines.append(splits)"
   ]
  },
  {
   "cell_type": "code",
   "execution_count": 54,
   "metadata": {},
   "outputs": [
    {
     "data": {
      "text/html": [
       "<div>\n",
       "<style scoped>\n",
       "    .dataframe tbody tr th:only-of-type {\n",
       "        vertical-align: middle;\n",
       "    }\n",
       "\n",
       "    .dataframe tbody tr th {\n",
       "        vertical-align: top;\n",
       "    }\n",
       "\n",
       "    .dataframe thead th {\n",
       "        text-align: right;\n",
       "    }\n",
       "</style>\n",
       "<table border=\"1\" class=\"dataframe\">\n",
       "  <thead>\n",
       "    <tr style=\"text-align: right;\">\n",
       "      <th></th>\n",
       "      <th>Amyg_R</th>\n",
       "      <th>Fimbria_R</th>\n",
       "      <th>Hippo_R</th>\n",
       "      <th>Mammillary_R</th>\n",
       "      <th>Amyg_L</th>\n",
       "      <th>Fimbria_L</th>\n",
       "      <th>Hippo_L</th>\n",
       "      <th>Mammillary_L</th>\n",
       "    </tr>\n",
       "  </thead>\n",
       "  <tbody>\n",
       "    <tr>\n",
       "      <th>0</th>\n",
       "      <td>1994</td>\n",
       "      <td>27</td>\n",
       "      <td>4537</td>\n",
       "      <td>121</td>\n",
       "      <td>1861</td>\n",
       "      <td>41</td>\n",
       "      <td>4682</td>\n",
       "      <td>148</td>\n",
       "    </tr>\n",
       "  </tbody>\n",
       "</table>\n",
       "</div>"
      ],
      "text/plain": [
       "  Amyg_R Fimbria_R Hippo_R Mammillary_R Amyg_L Fimbria_L Hippo_L Mammillary_L\n",
       "0   1994        27    4537          121   1861        41    4682          148"
      ]
     },
     "execution_count": 54,
     "metadata": {},
     "output_type": "execute_result"
    }
   ],
   "source": [
    "rolls=['Amyg_R','Fimbria_R','Hippo_R','Mammillary_R','Amyg_L','Fimbria_L','Hippo_L','Mammillary_L']\n",
    "df = pd.DataFrame(columns = rolls)\n",
    "df = df.append({'Amyg_R': 0,'Fimbria_R': 0,'Hippo_R': 0,'Mammillary_R': 0,'Amyg_L': 0,'Fimbria_L': 0,'Hippo_L': 0,'Mammillary_L': 0}, ignore_index=True)\n",
    "\n",
    "for i in range(len(relevant_lines)):\n",
    "    for j in range(len(rolls)):\n",
    "        if relevant_lines[i][1] == rolls[j]:\n",
    "            df[rolls[j]] = relevant_lines[i][2]\n",
    "\n",
    "df"
   ]
  },
  {
   "cell_type": "code",
   "execution_count": 72,
   "metadata": {},
   "outputs": [
    {
     "ename": "AttributeError",
     "evalue": "'DataFrame' object has no attribute 'ExcelWriter'",
     "output_type": "error",
     "traceback": [
      "\u001b[1;31m---------------------------------------------------------------------------\u001b[0m",
      "\u001b[1;31mAttributeError\u001b[0m                            Traceback (most recent call last)",
      "\u001b[1;32m<ipython-input-72-0c8f21060936>\u001b[0m in \u001b[0;36m<module>\u001b[1;34m\u001b[0m\n\u001b[0;32m     22\u001b[0m \u001b[1;33m\u001b[0m\u001b[0m\n\u001b[0;32m     23\u001b[0m \u001b[1;31m#save\u001b[0m\u001b[1;33m\u001b[0m\u001b[1;33m\u001b[0m\u001b[0m\n\u001b[1;32m---> 24\u001b[1;33m \u001b[0mfile_path\u001b[0m\u001b[1;33m=\u001b[0m\u001b[0mz_score_mri\u001b[0m\u001b[1;33m.\u001b[0m\u001b[0mExcelWriter\u001b[0m\u001b[1;33m(\u001b[0m\u001b[1;34m'Z_score_mri.xlsx'\u001b[0m\u001b[1;33m)\u001b[0m\u001b[1;33m\u001b[0m\u001b[0m\n\u001b[0m\u001b[0;32m     25\u001b[0m \u001b[0mpf\u001b[0m\u001b[1;33m.\u001b[0m\u001b[0mto_excel\u001b[0m\u001b[1;33m(\u001b[0m\u001b[0mfile_path\u001b[0m\u001b[1;33m,\u001b[0m\u001b[0mencoding\u001b[0m\u001b[1;33m=\u001b[0m\u001b[1;34m'utf-8'\u001b[0m\u001b[1;33m,\u001b[0m\u001b[0mindex\u001b[0m\u001b[1;33m=\u001b[0m\u001b[1;32mFalse\u001b[0m\u001b[1;33m)\u001b[0m\u001b[1;33m\u001b[0m\u001b[0m\n\u001b[0;32m     26\u001b[0m \u001b[0mfile_path\u001b[0m\u001b[1;33m.\u001b[0m\u001b[0msave\u001b[0m\u001b[1;33m(\u001b[0m\u001b[1;33m)\u001b[0m\u001b[1;33m\u001b[0m\u001b[0m\n",
      "\u001b[1;32mD:\\Users\\fyh980928\\Anaconda3\\envs\\tensorflow\\lib\\site-packages\\pandas\\core\\generic.py\u001b[0m in \u001b[0;36m__getattr__\u001b[1;34m(self, name)\u001b[0m\n\u001b[0;32m   5065\u001b[0m             \u001b[1;32mif\u001b[0m \u001b[0mself\u001b[0m\u001b[1;33m.\u001b[0m\u001b[0m_info_axis\u001b[0m\u001b[1;33m.\u001b[0m\u001b[0m_can_hold_identifiers_and_holds_name\u001b[0m\u001b[1;33m(\u001b[0m\u001b[0mname\u001b[0m\u001b[1;33m)\u001b[0m\u001b[1;33m:\u001b[0m\u001b[1;33m\u001b[0m\u001b[0m\n\u001b[0;32m   5066\u001b[0m                 \u001b[1;32mreturn\u001b[0m \u001b[0mself\u001b[0m\u001b[1;33m[\u001b[0m\u001b[0mname\u001b[0m\u001b[1;33m]\u001b[0m\u001b[1;33m\u001b[0m\u001b[0m\n\u001b[1;32m-> 5067\u001b[1;33m             \u001b[1;32mreturn\u001b[0m \u001b[0mobject\u001b[0m\u001b[1;33m.\u001b[0m\u001b[0m__getattribute__\u001b[0m\u001b[1;33m(\u001b[0m\u001b[0mself\u001b[0m\u001b[1;33m,\u001b[0m \u001b[0mname\u001b[0m\u001b[1;33m)\u001b[0m\u001b[1;33m\u001b[0m\u001b[0m\n\u001b[0m\u001b[0;32m   5068\u001b[0m \u001b[1;33m\u001b[0m\u001b[0m\n\u001b[0;32m   5069\u001b[0m     \u001b[1;32mdef\u001b[0m \u001b[0m__setattr__\u001b[0m\u001b[1;33m(\u001b[0m\u001b[0mself\u001b[0m\u001b[1;33m,\u001b[0m \u001b[0mname\u001b[0m\u001b[1;33m,\u001b[0m \u001b[0mvalue\u001b[0m\u001b[1;33m)\u001b[0m\u001b[1;33m:\u001b[0m\u001b[1;33m\u001b[0m\u001b[0m\n",
      "\u001b[1;31mAttributeError\u001b[0m: 'DataFrame' object has no attribute 'ExcelWriter'"
     ]
    }
   ],
   "source": [
    "#mean and standard deviation for control group\n",
    "data_z_mri=df.copy()\n",
    "z_score_mri=df.copy()\n",
    "control_new=control.copy()\n",
    "avg_control= np.mean(control)\n",
    "dev_control=np.std(control)\n",
    "rolls=['Amyg_R','Fimbria_R','Hippo_R','Mammillary_R','Amyg_L','Fimbria_L','Hippo_L','Mammillary_L']\n",
    "#print(avg_control)\n",
    "#print(dev_control)\n",
    "z_score_mri=pd.DataFrame(columns = rolls)\n",
    "mri_z1=(1994-1877.546875)/435.390447\n",
    "mri_z2=(27-15.5625)/11.093178\n",
    "mri_z3=(4537-3573.609375)/680.620664\n",
    "mri_z4=(121-79.593750)/13.452136\n",
    "mri_z5=(1861-1614.968750)/327.453287\n",
    "mri_z6=(41-7.687500)/8.514464\n",
    "mri_z7=(4682-3481.984375)/545.015725\n",
    "mri_z8=(148-93.421875)/15.858559\n",
    "\n",
    "z_score_mri=z_score_mri.append({'Amyg_R': mri_z1,'Fimbria_R': mri_z2,'Hippo_R': mri_z3,'Mammillary_R': mri_z4,'Amyg_L': mri_z5,'Fimbria_L': mri_z6,'Hippo_L': mri_z7,'Mammillary_L': mri_z8}, ignore_index=True)\n",
    "z_score_mri\n",
    "\n",
    "#save\n",
    "file_path=z_score_mri.ExcelWriter('Z_score_mri.xlsx')\n",
    "pf.to_excel(file_path,encoding='utf-8',index=False)\n",
    "file_path.save()"
   ]
  },
  {
   "cell_type": "code",
   "execution_count": null,
   "metadata": {},
   "outputs": [],
   "source": []
  }
 ],
 "metadata": {
  "kernelspec": {
   "display_name": "Python 3",
   "language": "python",
   "name": "python3"
  },
  "language_info": {
   "codemirror_mode": {
    "name": "ipython",
    "version": 3
   },
   "file_extension": ".py",
   "mimetype": "text/x-python",
   "name": "python",
   "nbconvert_exporter": "python",
   "pygments_lexer": "ipython3",
   "version": "3.7.0"
  }
 },
 "nbformat": 4,
 "nbformat_minor": 2
}
