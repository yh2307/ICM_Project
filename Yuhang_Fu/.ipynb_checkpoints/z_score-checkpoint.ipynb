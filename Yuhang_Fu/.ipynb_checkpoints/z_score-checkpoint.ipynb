{
 "cells": [
  {
   "cell_type": "markdown",
   "metadata": {},
   "source": [
    "# Z-score Calculation and Save:\n",
    "- **Data PreProcessing**\n",
    "   \n",
    "- **Set Z-score Function**\n",
    "   \n",
    "- **Calculate Z-score and Save**"
   ]
  },
  {
   "cell_type": "code",
   "execution_count": 35,
   "metadata": {},
   "outputs": [],
   "source": [
    "# import modules\n",
    "import sys\n",
    "import pandas as pd\n",
    "import seaborn as sns\n",
    "import matplotlib.pyplot as plt\n",
    "import matplotlib as mpl\n",
    "import numpy as np\n",
    "import openpyxl"
   ]
  },
  {
   "cell_type": "markdown",
   "metadata": {},
   "source": [
    "#### Step1: Data Preprocessing "
   ]
  },
  {
   "cell_type": "code",
   "execution_count": 18,
   "metadata": {},
   "outputs": [],
   "source": [
    "# Load the ADNI Data\n",
    "data=pd.read_excel('ADNI_ICM_random200.xlsx')\n",
    "data=data.replace({'\\'':''},regex=True) #delete the ' ' of values\n",
    "data = data.rename(columns=lambda x:x.strip('\\'')) #delete the '' of the keys\n",
    "#print(data)\n",
    "# Select columns in need\n",
    "rolls=['Amyg_R','Fimbria_R','Hippo_R','Mammillary_R','Amyg_L','Fimbria_L','Hippo_L','Mammillary_L']\n",
    "p_info=['Subject_ID', 'Gender', 'Age', 'Diagnosis']\n",
    "cols=np.concatenate((p_info,rolls),axis=0)\n",
    "#print(cols)\n",
    "dat_need=data[cols]\n",
    "#print(dat_need)"
   ]
  },
  {
   "cell_type": "code",
   "execution_count": 19,
   "metadata": {},
   "outputs": [
    {
     "name": "stdout",
     "output_type": "stream",
     "text": [
      "The number of women diagnosed with ANDI is 55\n",
      "The number of men diagnosed with ANDI is 81\n",
      "The number of women not diagnosed with ANDI is 32\n",
      "The number of men  not diagnosed with ANDI is 32\n"
     ]
    }
   ],
   "source": [
    "# divided by ANDI and Control\n",
    "ANDI = dat_need[dat_need.Diagnosis =='AD/MCI']\n",
    "ANDI = ANDI.reset_index(drop=True) #set index to zero\n",
    "control = dat_need[dat_need.Diagnosis == 'NORMAL']\n",
    "control=control.reset_index(drop=True)\n",
    "#print(ANDI)\n",
    "# divided by gender\n",
    "female_ANDI = ANDI[ANDI.Gender == 'F']\n",
    "female_ANDI=female_ANDI.reset_index(drop=True)\n",
    "male_ANDI = ANDI[ANDI.Gender == 'M']\n",
    "male_ANDI=male_ANDI.reset_index(drop=True)\n",
    "male_control = control[control.Gender == 'M']\n",
    "male_control=male_control.reset_index(drop=True)\n",
    "female_control =control[control.Gender == 'F']\n",
    "female_control=female_control.reset_index(drop=True)\n",
    "# the number of a\n",
    "print('The number of women diagnosed with ANDI is '+str(female_ANDI.shape[0]))\n",
    "print('The number of men diagnosed with ANDI is '+str(male_ANDI.shape[0]))\n",
    "print('The number of women not diagnosed with ANDI is '+str(female_control.shape[0]))\n",
    "print('The number of men  not diagnosed with ANDI is '+str(female_control.shape[0]))"
   ]
  },
  {
   "cell_type": "markdown",
   "metadata": {},
   "source": [
    "#### Step2: Set Z-score Function"
   ]
  },
  {
   "cell_type": "code",
   "execution_count": 20,
   "metadata": {},
   "outputs": [],
   "source": [
    "def z_score(data):\n",
    "    length = len(data)\n",
    "    data_new=np.zeros(length)\n",
    "    ave = np.mean(data)#compute mean\n",
    "    #print(ave)\n",
    "    dev=np.std(data)#compute deviation\n",
    "    #print(dev)\n",
    "    for i in range(length):\n",
    "        data_new[i] = float((data[i] - ave)/dev)\n",
    "        #print(data[i])\n",
    "        #print(data[i]-ave)\n",
    "        #print((data[i]-ave)/dev)\n",
    "    return data_new\n"
   ]
  },
  {
   "cell_type": "markdown",
   "metadata": {},
   "source": [
    "#### Step3: Calculate Z-score and save"
   ]
  },
  {
   "cell_type": "code",
   "execution_count": 31,
   "metadata": {},
   "outputs": [],
   "source": [
    "#get the z-score of the original data in need\n",
    "data_z_org=dat_need\n",
    "len1=len(dat_need)\n",
    "data_z_1=np.zeros(len1)\n",
    "data_z_2=np.zeros(len1)\n",
    "data_z_3=np.zeros(len1)\n",
    "data_z_4=np.zeros(len1)\n",
    "data_z_5=np.zeros(len1)\n",
    "data_z_6=np.zeros(len1)\n",
    "data_z_7=np.zeros(len1)\n",
    "data_z_8=np.zeros(len1)\n",
    "\n",
    "data_z_1=z_score(dat_need.Amyg_R)\n",
    "data_z_2=z_score(dat_need.Fimbria_R)\n",
    "data_z_3=z_score(dat_need.Hippo_R)\n",
    "data_z_4=z_score(dat_need.Mammillary_R)\n",
    "data_z_5=z_score(dat_need.Amyg_L)\n",
    "data_z_6=z_score(dat_need.Fimbria_L)\n",
    "data_z_7=z_score(dat_need.Hippo_L)\n",
    "data_z_8=z_score(dat_need.Mammillary_L)\n",
    "\n",
    "data_z_org.Amyg_R=data_z_1\n",
    "data_z_org.Fimbria_R=data_z_2\n",
    "data_z_org.Hippo_R=data_z_3\n",
    "data_z_org.Mammillary_R=data_z_4\n",
    "data_z_org.Amyg_L=data_z_5\n",
    "data_z_org.Fimbria_L=data_z_6\n",
    "data_z_org.Hippo_L=data_z_7\n",
    "data_z_org.Mammillary_L=data_z_8\n",
    "\n",
    "#save\n",
    "pf=pd.DataFrame(data_z_org)\n",
    "file_path=pd.ExcelWriter('Z_score_All.xlsx')\n",
    "pf.to_excel(file_path,encoding='utf-8',index=False)\n",
    "file_path.save()"
   ]
  },
  {
   "cell_type": "code",
   "execution_count": 32,
   "metadata": {},
   "outputs": [],
   "source": [
    "#get the z-score of the ANDI Patient\n",
    "data_z_ANDI=ANDI\n",
    "len1=len(dat_need)\n",
    "data_ANDI_1=np.zeros(len1)\n",
    "data_ANDI_2=np.zeros(len1)\n",
    "data_ANDI_3=np.zeros(len1)\n",
    "data_ANDI_4=np.zeros(len1)\n",
    "data_ANDI_5=np.zeros(len1)\n",
    "data_ANDI_6=np.zeros(len1)\n",
    "data_ANDI_7=np.zeros(len1)\n",
    "data_ANDI_8=np.zeros(len1)\n",
    "\n",
    "data_ANDI_1=z_score(ANDI.Amyg_R)\n",
    "data_ANDI_2=z_score(ANDI.Fimbria_R)\n",
    "data_ANDI_3=z_score(ANDI.Hippo_R)\n",
    "data_ANDI_4=z_score(ANDI.Mammillary_R)\n",
    "data_ANDI_5=z_score(ANDI.Amyg_L)\n",
    "data_ANDI_6=z_score(ANDI.Fimbria_L)\n",
    "data_ANDI_7=z_score(ANDI.Hippo_L)\n",
    "data_ANDI_8=z_score(ANDI.Mammillary_L)\n",
    "\n",
    "data_z_ANDI.Amyg_R=data_ANDI_1\n",
    "data_z_ANDI.Fimbria_R=data_ANDI_2\n",
    "data_z_ANDI.Hippo_R=data_ANDI_3\n",
    "data_z_ANDI.Mammillary_R=data_ANDI_4\n",
    "data_z_ANDI.Amyg_L=data_ANDI_5\n",
    "data_z_ANDI.Fimbria_L=data_ANDI_6\n",
    "data_z_ANDI.Hippo_L=data_ANDI_7\n",
    "data_z_ANDI.Mammillary_L=data_ANDI_8\n",
    "\n",
    "#save\n",
    "pf=pd.DataFrame(data_z_ANDI)\n",
    "file_path=pd.ExcelWriter('Z_score_ANDI.xlsx')\n",
    "pf.to_excel(file_path,encoding='utf-8',index=False)\n",
    "file_path.save()\n"
   ]
  },
  {
   "cell_type": "code",
   "execution_count": 34,
   "metadata": {},
   "outputs": [],
   "source": [
    "#get the z-score of the CONTROL Patient\n",
    "data_z_CONTROL=control\n",
    "len1=len(dat_need)\n",
    "data_CONTROL_1=np.zeros(len1)\n",
    "data_CONTROL_2=np.zeros(len1)\n",
    "data_CONTROL_3=np.zeros(len1)\n",
    "data_CONTROL_4=np.zeros(len1)\n",
    "data_CONTROL_5=np.zeros(len1)\n",
    "data_CONTROL_6=np.zeros(len1)\n",
    "data_CONTROL_7=np.zeros(len1)\n",
    "data_CONTROL_8=np.zeros(len1)\n",
    "\n",
    "data_CONTROL_1=z_score(control.Amyg_R)\n",
    "data_CONTROL_2=z_score(control.Fimbria_R)\n",
    "data_CONTROL_3=z_score(control.Hippo_R)\n",
    "data_CONTROL_4=z_score(control.Mammillary_R)\n",
    "data_CONTROL_5=z_score(control.Amyg_L)\n",
    "data_CONTROL_6=z_score(control.Fimbria_L)\n",
    "data_CONTROL_7=z_score(control.Hippo_L)\n",
    "data_CONTROL_8=z_score(control.Mammillary_L)\n",
    "\n",
    "data_z_CONTROL.Amyg_R=data_CONTROL_1\n",
    "data_z_CONTROL.Fimbria_R=data_CONTROL_2\n",
    "data_z_CONTROL.Hippo_R=data_CONTROL_3\n",
    "data_z_CONTROL.Mammillary_R=data_CONTROL_4\n",
    "data_z_CONTROL.Amyg_L=data_CONTROL_5\n",
    "data_z_CONTROL.Fimbria_L=data_CONTROL_6\n",
    "data_z_CONTROL.Hippo_L=data_CONTROL_7\n",
    "data_z_CONTROL.Mammillary_L=data_CONTROL_8\n",
    "\n",
    "#save\n",
    "pf=pd.DataFrame(data_z_CONTROL)\n",
    "file_path=pd.ExcelWriter('Z_score_control.xlsx')\n",
    "pf.to_excel(file_path,encoding='utf-8',index=False)\n",
    "file_path.save()\n"
   ]
  },
  {
   "cell_type": "code",
   "execution_count": null,
   "metadata": {},
   "outputs": [],
   "source": []
  }
 ],
 "metadata": {
  "kernelspec": {
   "display_name": "Python 3",
   "language": "python",
   "name": "python3"
  },
  "language_info": {
   "codemirror_mode": {
    "name": "ipython",
    "version": 3
   },
   "file_extension": ".py",
   "mimetype": "text/x-python",
   "name": "python",
   "nbconvert_exporter": "python",
   "pygments_lexer": "ipython3",
   "version": "3.7.0"
  }
 },
 "nbformat": 4,
 "nbformat_minor": 2
}
