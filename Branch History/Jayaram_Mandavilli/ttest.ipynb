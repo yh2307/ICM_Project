{
 "cells": [
  {
   "cell_type": "code",
   "execution_count": 2,
   "metadata": {},
   "outputs": [],
   "source": [
    "import pandas as pd\n",
    "import numpy as np\n",
    "import matplotlib.pyplot as plt\n",
    "from scipy import stats"
   ]
  },
  {
   "cell_type": "code",
   "execution_count": 7,
   "metadata": {},
   "outputs": [
    {
     "name": "stdout",
     "output_type": "stream",
     "text": [
      "Amyg_R :  Ttest_indResult(statistic=-4.4682428395991485, pvalue=2.0970683193202018e-05)\n",
      "Fimbria_R :  Ttest_indResult(statistic=-4.499019964620685, pvalue=1.6685492271036526e-05)\n",
      "Hippo_R :  Ttest_indResult(statistic=-3.0764354095258666, pvalue=0.0026787370545705864)\n",
      "Mammillary_R :  Ttest_indResult(statistic=0.7976521605298698, pvalue=0.42634253194343874)\n",
      "Amyg_L :  Ttest_indResult(statistic=-4.587870304928773, pvalue=1.1659266325844812e-05)\n",
      "Fimbria_L :  Ttest_indResult(statistic=-4.2548773627132, pvalue=5.145616956577014e-05)\n",
      "Hippo_L :  Ttest_indResult(statistic=-3.3337580056618092, pvalue=0.0011308974237248456)\n",
      "Mammillary_L :  Ttest_indResult(statistic=-0.6380588873280777, pvalue=0.5245696476967661)\n"
     ]
    }
   ],
   "source": [
    "# Load the ADNI Data\n",
    "data=pd.read_excel('../../../ICM_Project_Info/ICM_Project/ADNI_ICM_random200.xlsx')\n",
    "data=data.replace({'\\'':''},regex=True) #delete the ' ' of values\n",
    "data = data.rename(columns=lambda x:x.strip('\\'')) #delete the '' of the keys\n",
    "#print(data)\n",
    "# Select columns as need\n",
    "rolls=['Amyg_R','Fimbria_R','Hippo_R','Mammillary_R','Amyg_L','Fimbria_L','Hippo_L','Mammillary_L']\n",
    "p_info=['Subject_ID', 'Gender', 'Age', 'Diagnosis']\n",
    "cols=np.concatenate((p_info,rolls),axis=0)\n",
    "#print(cols)\n",
    "dat_need=data[cols]\n",
    "ANDI = dat_need[dat_need.Diagnosis =='AD/MCI']\n",
    "control = dat_need[dat_need.Diagnosis == 'NORMAL']\n",
    "\n",
    "ttest_vals = []\n",
    "for i in range(len(rolls)):\n",
    "    andi_col = ANDI.loc[:,rolls[i]]\n",
    "    control_col = control.loc[:,rolls[i]]\n",
    "    print(rolls[i], \": \", stats.ttest_ind(andi_col, control_col, equal_var=False))\n"
   ]
  }
 ],
 "metadata": {
  "kernelspec": {
   "display_name": "Python 3",
   "language": "python",
   "name": "python3"
  },
  "language_info": {
   "codemirror_mode": {
    "name": "ipython",
    "version": 3
   },
   "file_extension": ".py",
   "mimetype": "text/x-python",
   "name": "python",
   "nbconvert_exporter": "python",
   "pygments_lexer": "ipython3",
   "version": "3.6.9"
  }
 },
 "nbformat": 4,
 "nbformat_minor": 4
}
