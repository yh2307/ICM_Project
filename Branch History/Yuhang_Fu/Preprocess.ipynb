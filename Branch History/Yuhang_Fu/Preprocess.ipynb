{
 "cells": [
  {
   "cell_type": "code",
   "execution_count": 2,
   "metadata": {},
   "outputs": [],
   "source": [
    "# import modules\n",
    "import sys\n",
    "import pandas as pd\n",
    "import seaborn as sns\n",
    "import matplotlib.pyplot as plt\n",
    "import matplotlib as mpl\n",
    "import numpy as np\n",
    "#from tqdm import tqdm\n"
   ]
  },
  {
   "cell_type": "code",
   "execution_count": 3,
   "metadata": {},
   "outputs": [],
   "source": [
    "# Load the ADNI Data\n",
    "data=pd.read_excel('ADNI_ICM_random200.xlsx')\n",
    "data=data.replace({'\\'':''},regex=True) #delete the ' ' of values\n",
    "data = data.rename(columns=lambda x:x.strip('\\'')) #delete the '' of the keys\n",
    "#print(data)\n",
    "# Select columns as need\n",
    "rolls=['Amyg_R','Fimbria_R','Hippo_R','Mammillary_R','Amyg_L','Fimbria_L','Hippo_L','Mammillary_L']\n",
    "p_info=['Subject_ID', 'Gender', 'Age', 'Diagnosis']\n",
    "cols=np.concatenate((p_info,rolls),axis=0)\n",
    "#print(cols)\n",
    "dat_need=data[cols]\n",
    "#print(dat_need)"
   ]
  },
  {
   "cell_type": "code",
   "execution_count": 4,
   "metadata": {},
   "outputs": [
    {
     "name": "stdout",
     "output_type": "stream",
     "text": [
      "The number of women diagnosed with ANDI is 55\n",
      "The number of men diagnosed with ANDI is 81\n",
      "The number of women not diagnosed with ANDI is 32\n",
      "The number of men  not diagnosed with ANDI is 32\n"
     ]
    }
   ],
   "source": [
    "# divided by ANDI and Control\n",
    "ANDI = dat_need[dat_need.Diagnosis =='AD/MCI']\n",
    "control = dat_need[dat_need.Diagnosis == 'NORMAL']\n",
    "#print(ANDI)\n",
    "# divided by gender\n",
    "female_ANDI = ANDI[ANDI.Gender == 'F']\n",
    "male_ANDI = ANDI[ANDI.Gender == 'M']\n",
    "male_control = control[control.Gender == 'M']\n",
    "female_control = control[control.Gender == 'F']\n",
    "# the number of a\n",
    "print('The number of women diagnosed with ANDI is '+str(female_ANDI.shape[0]))\n",
    "print('The number of men diagnosed with ANDI is '+str(male_ANDI.shape[0]))\n",
    "print('The number of women not diagnosed with ANDI is '+str(female_control.shape[0]))\n",
    "print('The number of men  not diagnosed with ANDI is '+str(female_control.shape[0]))"
   ]
  },
  {
   "cell_type": "code",
   "execution_count": null,
   "metadata": {},
   "outputs": [],
   "source": []
  }
 ],
 "metadata": {
  "kernelspec": {
   "display_name": "Python 3",
   "language": "python",
   "name": "python3"
  },
  "language_info": {
   "codemirror_mode": {
    "name": "ipython",
    "version": 3
   },
   "file_extension": ".py",
   "mimetype": "text/x-python",
   "name": "python",
   "nbconvert_exporter": "python",
   "pygments_lexer": "ipython3",
   "version": "3.7.0"
  }
 },
 "nbformat": 4,
 "nbformat_minor": 2
}
